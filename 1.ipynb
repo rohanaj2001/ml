import seaborn as sb
import pandas as pd
import matplotlib.pyplot as plt
import random
from sklearn.metrics import confusion_matrix , roc_curve , accuracy_score , f1_score , precision_score
from sklearn.metrics import recall_score , matthews_corrcoef , roc_auc_score




actual_data = [random.randint(0,1) for i in range(20)]
predicted_data = actual_data[0:8] + [1,0,0,1] + actual_data[12:]
print("Actual Data    : ", actual_data)
print("Predicted Data : ", predicted_data)  
Actual Data    :  [1, 1, 0, 0, 1, 1, 1, 0, 1, 0, 0, 0, 1, 1, 0, 1, 0, 1, 0, 1]
Predicted Data :  [1, 1, 0, 0, 1, 1, 1, 0, 1, 0, 0, 1, 1, 1, 0, 1, 0, 1, 0, 1]
tn, fp, fn, tp = confusion_matrix(actual_data, predicted_data).ravel()
print("TN:", tn)
print("FP:", fp)
print("FN:", fn)
print("TP:", tp)




def accuracy(tn, fp, fn, tp):
    return (tp+tn)/(tp+fp+tn+fn)

def precision(tp, fp):
    return tp / (tp + fp)

def recall(tp,fn):
    return tp / (tp + fn)

def f1(tp, fp, fn):
    p = precision(tp,fp)
    r = recall(tp,fn)
    return 2 * (p * r) / (p + r)

def mcc(tn, fp, fn, tp):
    return ((tp * tn) - (fp * fn))/(((tp + fp) * (tp + fn) * (fp + tn) * (tn + fn)) ** (1/2))




my_accuracy = accuracy(tn, fp, fn, tp)
sk_accuracy = accuracy_score(actual_data,predicted_data)
print(f"My Accuracy       : {my_accuracy : 0.4}")
print(f"sklearn Accuracy  : {sk_accuracy : 0.4}")

my_precision = precision(tp, fp)
sk_precision = precision_score(actual_data,predicted_data)
print(f"My Precision      : {my_precision : 0.4}")
print(f"sklearn Precision : {sk_precision : 0.4}")

my_recall = recall(tp, fn)
sk_recall = recall_score(actual_data,predicted_data)
print(f"My Recall         : {my_recall : 0.4}")
print(f"sklearn Recall    : {sk_recall : 0.4}")

my_f1_score = f1(tp, fp, fn)
sk_f1_score = f1_score(actual_data,predicted_data)
print(f"My f1 score       : {my_f1_score : 0.4}")
print(f"sklearn f1 score  : {sk_f1_score : 0.4}")

my_mcc = mcc(tn, fp, fn, tp)
sk_mcc = matthews_corrcoef(actual_data,predicted_data)
print(f"My MCC            : {my_mcc : 0.4}")
print(f"sklearn MCC       : {sk_mcc : 0.4}")




sk_array = [[tp, fn], [fp, tn]]
df = pd.DataFrame(sk_array, range(2), range(2))
sb.heatmap(df, annot = True, annot_kws = {"size" : 31})

print("sklearn's Confusion Matrix Plot")
print()
print("              Predicted Value")
print("True Value      TP     FN")
print("                FP     TN")
print()
print("              Predicted Value")
print(f"True Value      {tp : ^2}     {fn : ^2}")
print(f"                {fp : ^2}     {tn : ^2}")



auc_score = roc_auc_score(actual_data, predicted_data)
print("sklearn ROC-AUC Score:", auc_score)

# Calculate the ROC curve
fpr, tpr, _ = roc_curve(actual_data, predicted_data)

# Plot the ROC curve
plt.plot(fpr, tpr, color="orange", lw=2)
plt.plot([0, 1], [0, 1], color="blue", lw=2, linestyle="--")
plt.xlabel("False Positive Rate")
plt.ylabel("True Positive Rate")
plt.title("Receiver Operating Characteristics")
